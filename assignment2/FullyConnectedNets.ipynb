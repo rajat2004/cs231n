{
 "cells": [
  {
   "cell_type": "code",
   "execution_count": 2,
   "metadata": {
    "colab": {
     "base_uri": "https://localhost:8080/",
     "height": 69
    },
    "colab_type": "code",
    "executionInfo": {
     "elapsed": 6815,
     "status": "ok",
     "timestamp": 1596903751711,
     "user": {
      "displayName": "Singhal Rajat Vikas cs17b042",
      "photoUrl": "",
      "userId": "09224506680049486870"
     },
     "user_tz": -330
    },
    "id": "axiBqUCE-9Xr",
    "outputId": "cbb3dd83-8e09-4500-982e-f26e8c8b3652"
   },
   "outputs": [
    {
     "name": "stdout",
     "output_type": "stream",
     "text": [
      "Mounted at /content/drive\n",
      "/content/drive/My Drive/cs231n/assignments/assignment2/cs231n/datasets\n",
      "/content\n"
     ]
    }
   ],
   "source": [
    "# this mounts your Google Drive to the Colab VM.\n",
    "from google.colab import drive\n",
    "drive.mount('/content/drive', force_remount=True)\n",
    "\n",
    "# enter the foldername in your Drive where you have saved the unzipped\n",
    "# assignment folder, e.g. 'cs231n/assignments/assignment3/'\n",
    "FOLDERNAME = 'cs231n/assignments/assignment2/'\n",
    "assert FOLDERNAME is not None, \"[!] Enter the foldername.\"\n",
    "\n",
    "# now that we've mounted your Drive, this ensures that\n",
    "# the Python interpreter of the Colab VM can load\n",
    "# python files from within it.\n",
    "import sys\n",
    "sys.path.append('/content/drive/My Drive/{}'.format(FOLDERNAME))\n",
    "\n",
    "# this downloads the CIFAR-10 dataset to your Drive\n",
    "# if it doesn't already exist.\n",
    "%cd drive/My\\ Drive/$FOLDERNAME/cs231n/datasets/\n",
    "!bash get_datasets.sh\n",
    "%cd /content"
   ]
  },
  {
   "cell_type": "markdown",
   "metadata": {
    "colab_type": "text",
    "id": "LTpWtrS3-9X1",
    "tags": [
     "pdf-title"
    ]
   },
   "source": [
    "# Fully-Connected Neural Nets\n",
    "In the previous homework you implemented a fully-connected two-layer neural network on CIFAR-10. The implementation was simple but not very modular since the loss and gradient were computed in a single monolithic function. This is manageable for a simple two-layer network, but would become impractical as we move to bigger models. Ideally we want to build networks using a more modular design so that we can implement different layer types in isolation and then snap them together into models with different architectures."
   ]
  },
  {
   "cell_type": "markdown",
   "metadata": {
    "colab_type": "text",
    "id": "yYit23pq-9X2",
    "tags": [
     "pdf-ignore"
    ]
   },
   "source": [
    "In this exercise we will implement fully-connected networks using a more modular approach. For each layer we will implement a `forward` and a `backward` function. The `forward` function will receive inputs, weights, and other parameters and will return both an output and a `cache` object storing data needed for the backward pass, like this:\n",
    "\n",
    "```python\n",
    "def layer_forward(x, w):\n",
    "  \"\"\" Receive inputs x and weights w \"\"\"\n",
    "  # Do some computations ...\n",
    "  z = # ... some intermediate value\n",
    "  # Do some more computations ...\n",
    "  out = # the output\n",
    "   \n",
    "  cache = (x, w, z, out) # Values we need to compute gradients\n",
    "   \n",
    "  return out, cache\n",
    "```\n",
    "\n",
    "The backward pass will receive upstream derivatives and the `cache` object, and will return gradients with respect to the inputs and weights, like this:\n",
    "\n",
    "```python\n",
    "def layer_backward(dout, cache):\n",
    "  \"\"\"\n",
    "  Receive dout (derivative of loss with respect to outputs) and cache,\n",
    "  and compute derivative with respect to inputs.\n",
    "  \"\"\"\n",
    "  # Unpack cache values\n",
    "  x, w, z, out = cache\n",
    "  \n",
    "  # Use values in cache to compute derivatives\n",
    "  dx = # Derivative of loss with respect to x\n",
    "  dw = # Derivative of loss with respect to w\n",
    "  \n",
    "  return dx, dw\n",
    "```\n",
    "\n",
    "After implementing a bunch of layers this way, we will be able to easily combine them to build classifiers with different architectures.\n",
    "\n",
    "In addition to implementing fully-connected networks of arbitrary depth, we will also explore different update rules for optimization, and introduce Dropout as a regularizer and Batch/Layer Normalization as a tool to more efficiently optimize deep networks.\n",
    "  "
   ]
  },
  {
   "cell_type": "code",
   "execution_count": 3,
   "metadata": {
    "colab": {
     "base_uri": "https://localhost:8080/",
     "height": 86
    },
    "colab_type": "code",
    "executionInfo": {
     "elapsed": 8395,
     "status": "ok",
     "timestamp": 1596903767591,
     "user": {
      "displayName": "Singhal Rajat Vikas cs17b042",
      "photoUrl": "",
      "userId": "09224506680049486870"
     },
     "user_tz": -330
    },
    "id": "AV1qxEkH-9X5",
    "outputId": "51c87a4f-5132-4f8e-d044-ffb6640a8573",
    "tags": [
     "pdf-ignore"
    ]
   },
   "outputs": [
    {
     "name": "stdout",
     "output_type": "stream",
     "text": [
      "=========== You can safely ignore the message below if you are NOT working on ConvolutionalNetworks.ipynb ===========\n",
      "\tYou will need to compile a Cython extension for a portion of this assignment.\n",
      "\tThe instructions to do this will be given in a section of the notebook below.\n",
      "\tThere will be an option for Colab users and another for Jupyter (local) users.\n"
     ]
    }
   ],
   "source": [
    "# As usual, a bit of setup\n",
    "from __future__ import print_function\n",
    "import time\n",
    "import numpy as np\n",
    "import matplotlib.pyplot as plt\n",
    "from cs231n.classifiers.fc_net import *\n",
    "from cs231n.data_utils import get_CIFAR10_data\n",
    "from cs231n.gradient_check import eval_numerical_gradient, eval_numerical_gradient_array\n",
    "from cs231n.solver import Solver\n",
    "\n",
    "%matplotlib inline\n",
    "plt.rcParams['figure.figsize'] = (10.0, 8.0) # set default size of plots\n",
    "plt.rcParams['image.interpolation'] = 'nearest'\n",
    "plt.rcParams['image.cmap'] = 'gray'\n",
    "\n",
    "# for auto-reloading external modules\n",
    "# see http://stackoverflow.com/questions/1907993/autoreload-of-modules-in-ipython\n",
    "%load_ext autoreload\n",
    "%autoreload 2\n",
    "\n",
    "def rel_error(x, y):\n",
    "  \"\"\" returns relative error \"\"\"\n",
    "  return np.max(np.abs(x - y) / (np.maximum(1e-8, np.abs(x) + np.abs(y))))"
   ]
  },
  {
   "cell_type": "code",
   "execution_count": 4,
   "metadata": {
    "colab": {
     "base_uri": "https://localhost:8080/",
     "height": 121
    },
    "colab_type": "code",
    "executionInfo": {
     "elapsed": 10858,
     "status": "ok",
     "timestamp": 1596903781173,
     "user": {
      "displayName": "Singhal Rajat Vikas cs17b042",
      "photoUrl": "",
      "userId": "09224506680049486870"
     },
     "user_tz": -330
    },
    "id": "VgmoSARU-9YA",
    "outputId": "ee2a4eee-351e-454a-c329-8a5b1dc32d8a",
    "tags": [
     "pdf-ignore"
    ]
   },
   "outputs": [
    {
     "name": "stdout",
     "output_type": "stream",
     "text": [
      "('X_train: ', (49000, 3, 32, 32))\n",
      "('y_train: ', (49000,))\n",
      "('X_val: ', (1000, 3, 32, 32))\n",
      "('y_val: ', (1000,))\n",
      "('X_test: ', (1000, 3, 32, 32))\n",
      "('y_test: ', (1000,))\n"
     ]
    }
   ],
   "source": [
    "# Load the (preprocessed) CIFAR10 data.\n",
    "\n",
    "data = get_CIFAR10_data()\n",
    "for k, v in list(data.items()):\n",
    "  print(('%s: ' % k, v.shape))"
   ]
  },
  {
   "cell_type": "markdown",
   "metadata": {
    "colab_type": "text",
    "id": "-17mqTH5-9YG"
   },
   "source": [
    "# Affine layer: forward\n",
    "Open the file `cs231n/layers.py` and implement the `affine_forward` function.\n",
    "\n",
    "Once you are done you can test your implementaion by running the following:"
   ]
  },
  {
   "cell_type": "code",
   "execution_count": 5,
   "metadata": {
    "colab": {
     "base_uri": "https://localhost:8080/",
     "height": 52
    },
    "colab_type": "code",
    "executionInfo": {
     "elapsed": 1448,
     "status": "ok",
     "timestamp": 1596903788376,
     "user": {
      "displayName": "Singhal Rajat Vikas cs17b042",
      "photoUrl": "",
      "userId": "09224506680049486870"
     },
     "user_tz": -330
    },
    "id": "t0clJE7--9YH",
    "outputId": "f5222b3f-e3cc-4232-a2a5-ed6bbc19155c"
   },
   "outputs": [
    {
     "name": "stdout",
     "output_type": "stream",
     "text": [
      "Testing affine_forward function:\n",
      "difference:  9.769849468192957e-10\n"
     ]
    }
   ],
   "source": [
    "# Test the affine_forward function\n",
    "\n",
    "num_inputs = 2\n",
    "input_shape = (4, 5, 6)\n",
    "output_dim = 3\n",
    "\n",
    "input_size = num_inputs * np.prod(input_shape)\n",
    "weight_size = output_dim * np.prod(input_shape)\n",
    "\n",
    "x = np.linspace(-0.1, 0.5, num=input_size).reshape(num_inputs, *input_shape)\n",
    "w = np.linspace(-0.2, 0.3, num=weight_size).reshape(np.prod(input_shape), output_dim)\n",
    "b = np.linspace(-0.3, 0.1, num=output_dim)\n",
    "\n",
    "out, _ = affine_forward(x, w, b)\n",
    "correct_out = np.array([[ 1.49834967,  1.70660132,  1.91485297],\n",
    "                        [ 3.25553199,  3.5141327,   3.77273342]])\n",
    "\n",
    "# Compare your output with ours. The error should be around e-9 or less.\n",
    "print('Testing affine_forward function:')\n",
    "print('difference: ', rel_error(out, correct_out))"
   ]
  },
  {
   "cell_type": "markdown",
   "metadata": {
    "colab_type": "text",
    "id": "4xoVorQ8-9YO"
   },
   "source": [
    "# Affine layer: backward\n",
    "Now implement the `affine_backward` function and test your implementation using numeric gradient checking."
   ]
  },
  {
   "cell_type": "code",
   "execution_count": 6,
   "metadata": {
    "colab": {
     "base_uri": "https://localhost:8080/",
     "height": 86
    },
    "colab_type": "code",
    "executionInfo": {
     "elapsed": 1330,
     "status": "ok",
     "timestamp": 1596903793322,
     "user": {
      "displayName": "Singhal Rajat Vikas cs17b042",
      "photoUrl": "",
      "userId": "09224506680049486870"
     },
     "user_tz": -330
    },
    "id": "DcCjpeIH-9YQ",
    "outputId": "74afae2c-381b-45ab-a61b-eabb7f081cdb"
   },
   "outputs": [
    {
     "name": "stdout",
     "output_type": "stream",
     "text": [
      "Testing affine_backward function:\n",
      "dx error:  5.399100368651805e-11\n",
      "dw error:  9.904211865398145e-11\n",
      "db error:  2.4122867568119087e-11\n"
     ]
    }
   ],
   "source": [
    "# Test the affine_backward function\n",
    "np.random.seed(231)\n",
    "x = np.random.randn(10, 2, 3)\n",
    "w = np.random.randn(6, 5)\n",
    "b = np.random.randn(5)\n",
    "dout = np.random.randn(10, 5)\n",
    "\n",
    "dx_num = eval_numerical_gradient_array(lambda x: affine_forward(x, w, b)[0], x, dout)\n",
    "dw_num = eval_numerical_gradient_array(lambda w: affine_forward(x, w, b)[0], w, dout)\n",
    "db_num = eval_numerical_gradient_array(lambda b: affine_forward(x, w, b)[0], b, dout)\n",
    "\n",
    "_, cache = affine_forward(x, w, b)\n",
    "dx, dw, db = affine_backward(dout, cache)\n",
    "\n",
    "# The error should be around e-10 or less\n",
    "print('Testing affine_backward function:')\n",
    "print('dx error: ', rel_error(dx_num, dx))\n",
    "print('dw error: ', rel_error(dw_num, dw))\n",
    "print('db error: ', rel_error(db_num, db))"
   ]
  },
  {
   "cell_type": "markdown",
   "metadata": {
    "colab_type": "text",
    "id": "mamkEH_u-9YX"
   },
   "source": [
    "# ReLU activation: forward\n",
    "Implement the forward pass for the ReLU activation function in the `relu_forward` function and test your implementation using the following:"
   ]
  },
  {
   "cell_type": "code",
   "execution_count": 7,
   "metadata": {
    "colab": {
     "base_uri": "https://localhost:8080/",
     "height": 52
    },
    "colab_type": "code",
    "executionInfo": {
     "elapsed": 1334,
     "status": "ok",
     "timestamp": 1596903798125,
     "user": {
      "displayName": "Singhal Rajat Vikas cs17b042",
      "photoUrl": "",
      "userId": "09224506680049486870"
     },
     "user_tz": -330
    },
    "id": "pCShebXu-9YY",
    "outputId": "56a7e505-18d4-42bd-9b3e-7188f26dda41"
   },
   "outputs": [
    {
     "name": "stdout",
     "output_type": "stream",
     "text": [
      "Testing relu_forward function:\n",
      "difference:  4.999999798022158e-08\n"
     ]
    }
   ],
   "source": [
    "# Test the relu_forward function\n",
    "\n",
    "x = np.linspace(-0.5, 0.5, num=12).reshape(3, 4)\n",
    "\n",
    "out, _ = relu_forward(x)\n",
    "correct_out = np.array([[ 0.,          0.,          0.,          0.,        ],\n",
    "                        [ 0.,          0.,          0.04545455,  0.13636364,],\n",
    "                        [ 0.22727273,  0.31818182,  0.40909091,  0.5,       ]])\n",
    "\n",
    "# Compare your output with ours. The error should be on the order of e-8\n",
    "print('Testing relu_forward function:')\n",
    "print('difference: ', rel_error(out, correct_out))"
   ]
  },
  {
   "cell_type": "markdown",
   "metadata": {
    "colab_type": "text",
    "id": "5r3J1hNq-9Yd"
   },
   "source": [
    "# ReLU activation: backward\n",
    "Now implement the backward pass for the ReLU activation function in the `relu_backward` function and test your implementation using numeric gradient checking:"
   ]
  },
  {
   "cell_type": "code",
   "execution_count": 8,
   "metadata": {
    "colab": {
     "base_uri": "https://localhost:8080/",
     "height": 52
    },
    "colab_type": "code",
    "executionInfo": {
     "elapsed": 1300,
     "status": "ok",
     "timestamp": 1596903801817,
     "user": {
      "displayName": "Singhal Rajat Vikas cs17b042",
      "photoUrl": "",
      "userId": "09224506680049486870"
     },
     "user_tz": -330
    },
    "id": "Q4jNubkj-9Yf",
    "outputId": "c03c5523-0b72-48e0-aa24-2e384e3214b2"
   },
   "outputs": [
    {
     "name": "stdout",
     "output_type": "stream",
     "text": [
      "Testing relu_backward function:\n",
      "dx error:  3.2756349136310288e-12\n"
     ]
    }
   ],
   "source": [
    "np.random.seed(231)\n",
    "x = np.random.randn(10, 10)\n",
    "dout = np.random.randn(*x.shape)\n",
    "\n",
    "dx_num = eval_numerical_gradient_array(lambda x: relu_forward(x)[0], x, dout)\n",
    "\n",
    "_, cache = relu_forward(x)\n",
    "dx = relu_backward(dout, cache)\n",
    "\n",
    "# The error should be on the order of e-12\n",
    "print('Testing relu_backward function:')\n",
    "print('dx error: ', rel_error(dx_num, dx))"
   ]
  },
  {
   "cell_type": "markdown",
   "metadata": {
    "colab_type": "text",
    "id": "c5bLp2Y--9Yk",
    "tags": [
     "pdf-inline"
    ]
   },
   "source": [
    "## Inline Question 1: \n",
    "\n",
    "We've only asked you to implement ReLU, but there are a number of different activation functions that one could use in neural networks, each with its pros and cons. In particular, an issue commonly seen with activation functions is getting zero (or close to zero) gradient flow during backpropagation. Which of the following activation functions have this problem? If you consider these functions in the one dimensional case, what types of input would lead to this behaviour?\n",
    "1. Sigmoid\n",
    "2. ReLU\n",
    "3. Leaky ReLU\n",
    "\n",
    "## Answer:\n",
    "[FILL THIS IN]\n"
   ]
  },
  {
   "cell_type": "markdown",
   "metadata": {
    "colab_type": "text",
    "id": "3YQcRZyQ-9Yk"
   },
   "source": [
    "# \"Sandwich\" layers\n",
    "There are some common patterns of layers that are frequently used in neural nets. For example, affine layers are frequently followed by a ReLU nonlinearity. To make these common patterns easy, we define several convenience layers in the file `cs231n/layer_utils.py`.\n",
    "\n",
    "For now take a look at the `affine_relu_forward` and `affine_relu_backward` functions, and run the following to numerically gradient check the backward pass:"
   ]
  },
  {
   "cell_type": "code",
   "execution_count": 9,
   "metadata": {
    "colab": {
     "base_uri": "https://localhost:8080/",
     "height": 86
    },
    "colab_type": "code",
    "executionInfo": {
     "elapsed": 1194,
     "status": "ok",
     "timestamp": 1596903806791,
     "user": {
      "displayName": "Singhal Rajat Vikas cs17b042",
      "photoUrl": "",
      "userId": "09224506680049486870"
     },
     "user_tz": -330
    },
    "id": "k0KPzpyV-9Ym",
    "outputId": "15572010-b9df-473a-8c9f-6c24c18156b1"
   },
   "outputs": [
    {
     "name": "stdout",
     "output_type": "stream",
     "text": [
      "Testing affine_relu_forward and affine_relu_backward:\n",
      "dx error:  2.299579177309368e-11\n",
      "dw error:  8.162011105764925e-11\n",
      "db error:  7.826724021458994e-12\n"
     ]
    }
   ],
   "source": [
    "from cs231n.layer_utils import affine_relu_forward, affine_relu_backward\n",
    "np.random.seed(231)\n",
    "x = np.random.randn(2, 3, 4)\n",
    "w = np.random.randn(12, 10)\n",
    "b = np.random.randn(10)\n",
    "dout = np.random.randn(2, 10)\n",
    "\n",
    "out, cache = affine_relu_forward(x, w, b)\n",
    "dx, dw, db = affine_relu_backward(dout, cache)\n",
    "\n",
    "dx_num = eval_numerical_gradient_array(lambda x: affine_relu_forward(x, w, b)[0], x, dout)\n",
    "dw_num = eval_numerical_gradient_array(lambda w: affine_relu_forward(x, w, b)[0], w, dout)\n",
    "db_num = eval_numerical_gradient_array(lambda b: affine_relu_forward(x, w, b)[0], b, dout)\n",
    "\n",
    "# Relative error should be around e-10 or less\n",
    "print('Testing affine_relu_forward and affine_relu_backward:')\n",
    "print('dx error: ', rel_error(dx_num, dx))\n",
    "print('dw error: ', rel_error(dw_num, dw))\n",
    "print('db error: ', rel_error(db_num, db))"
   ]
  },
  {
   "cell_type": "markdown",
   "metadata": {
    "colab_type": "text",
    "id": "b706enJs-9Yq"
   },
   "source": [
    "# Loss layers: Softmax and SVM\n",
    "You implemented these loss functions in the last assignment, so we'll give them to you for free here. You should still make sure you understand how they work by looking at the implementations in `cs231n/layers.py`.\n",
    "\n",
    "You can make sure that the implementations are correct by running the following:"
   ]
  },
  {
   "cell_type": "code",
   "execution_count": 10,
   "metadata": {
    "colab": {
     "base_uri": "https://localhost:8080/",
     "height": 139
    },
    "colab_type": "code",
    "executionInfo": {
     "elapsed": 1285,
     "status": "ok",
     "timestamp": 1596903810943,
     "user": {
      "displayName": "Singhal Rajat Vikas cs17b042",
      "photoUrl": "",
      "userId": "09224506680049486870"
     },
     "user_tz": -330
    },
    "id": "9es6qBGI-9Yr",
    "outputId": "e38c9be5-007b-44b9-cd30-7874031ae02e"
   },
   "outputs": [
    {
     "name": "stdout",
     "output_type": "stream",
     "text": [
      "Testing svm_loss:\n",
      "loss:  8.999602749096233\n",
      "dx error:  1.4021566006651672e-09\n",
      "\n",
      "Testing softmax_loss:\n",
      "loss:  2.302545844500738\n",
      "dx error:  9.384673161989355e-09\n"
     ]
    }
   ],
   "source": [
    "np.random.seed(231)\n",
    "num_classes, num_inputs = 10, 50\n",
    "x = 0.001 * np.random.randn(num_inputs, num_classes)\n",
    "y = np.random.randint(num_classes, size=num_inputs)\n",
    "\n",
    "dx_num = eval_numerical_gradient(lambda x: svm_loss(x, y)[0], x, verbose=False)\n",
    "loss, dx = svm_loss(x, y)\n",
    "\n",
    "# Test svm_loss function. Loss should be around 9 and dx error should be around the order of e-9\n",
    "print('Testing svm_loss:')\n",
    "print('loss: ', loss)\n",
    "print('dx error: ', rel_error(dx_num, dx))\n",
    "\n",
    "dx_num = eval_numerical_gradient(lambda x: softmax_loss(x, y)[0], x, verbose=False)\n",
    "loss, dx = softmax_loss(x, y)\n",
    "\n",
    "# Test softmax_loss function. Loss should be close to 2.3 and dx error should be around e-8\n",
    "print('\\nTesting softmax_loss:')\n",
    "print('loss: ', loss)\n",
    "print('dx error: ', rel_error(dx_num, dx))"
   ]
  },
  {
   "cell_type": "markdown",
   "metadata": {
    "colab_type": "text",
    "id": "94zj9dlX-9Yw"
   },
   "source": [
    "# Two-layer network\n",
    "In the previous assignment you implemented a two-layer neural network in a single monolithic class. Now that you have implemented modular versions of the necessary layers, you will reimplement the two layer network using these modular implementations.\n",
    "\n",
    "Open the file `cs231n/classifiers/fc_net.py` and complete the implementation of the `TwoLayerNet` class. This class will serve as a model for the other networks you will implement in this assignment, so read through it to make sure you understand the API. You can run the cell below to test your implementation."
   ]
  },
  {
   "cell_type": "code",
   "execution_count": 11,
   "metadata": {
    "colab": {
     "base_uri": "https://localhost:8080/",
     "height": 243
    },
    "colab_type": "code",
    "executionInfo": {
     "elapsed": 1257,
     "status": "ok",
     "timestamp": 1596903814730,
     "user": {
      "displayName": "Singhal Rajat Vikas cs17b042",
      "photoUrl": "",
      "userId": "09224506680049486870"
     },
     "user_tz": -330
    },
    "id": "Bdio-_Hm-9Yw",
    "outputId": "be79f3cf-186c-4418-ec10-af1f2fd40d5b"
   },
   "outputs": [
    {
     "name": "stdout",
     "output_type": "stream",
     "text": [
      "Testing initialization ... \n",
      "Testing test-time forward pass ... \n",
      "Testing training loss (no regularization)\n",
      "Running numeric gradient check with reg =  0.0\n",
      "W1 relative error: 1.83e-08\n",
      "W2 relative error: 3.12e-10\n",
      "b1 relative error: 9.83e-09\n",
      "b2 relative error: 4.33e-10\n",
      "Running numeric gradient check with reg =  0.7\n",
      "W1 relative error: 2.53e-07\n",
      "W2 relative error: 7.98e-08\n",
      "b1 relative error: 1.56e-08\n",
      "b2 relative error: 7.76e-10\n"
     ]
    }
   ],
   "source": [
    "np.random.seed(231)\n",
    "N, D, H, C = 3, 5, 50, 7\n",
    "X = np.random.randn(N, D)\n",
    "y = np.random.randint(C, size=N)\n",
    "\n",
    "std = 1e-3\n",
    "model = TwoLayerNet(input_dim=D, hidden_dim=H, num_classes=C, weight_scale=std)\n",
    "\n",
    "print('Testing initialization ... ')\n",
    "W1_std = abs(model.params['W1'].std() - std)\n",
    "b1 = model.params['b1']\n",
    "W2_std = abs(model.params['W2'].std() - std)\n",
    "b2 = model.params['b2']\n",
    "assert W1_std < std / 10, 'First layer weights do not seem right'\n",
    "assert np.all(b1 == 0), 'First layer biases do not seem right'\n",
    "assert W2_std < std / 10, 'Second layer weights do not seem right'\n",
    "assert np.all(b2 == 0), 'Second layer biases do not seem right'\n",
    "\n",
    "print('Testing test-time forward pass ... ')\n",
    "model.params['W1'] = np.linspace(-0.7, 0.3, num=D*H).reshape(D, H)\n",
    "model.params['b1'] = np.linspace(-0.1, 0.9, num=H)\n",
    "model.params['W2'] = np.linspace(-0.3, 0.4, num=H*C).reshape(H, C)\n",
    "model.params['b2'] = np.linspace(-0.9, 0.1, num=C)\n",
    "X = np.linspace(-5.5, 4.5, num=N*D).reshape(D, N).T\n",
    "scores = model.loss(X)\n",
    "correct_scores = np.asarray(\n",
    "  [[11.53165108,  12.2917344,   13.05181771,  13.81190102,  14.57198434, 15.33206765,  16.09215096],\n",
    "   [12.05769098,  12.74614105,  13.43459113,  14.1230412,   14.81149128, 15.49994135,  16.18839143],\n",
    "   [12.58373087,  13.20054771,  13.81736455,  14.43418138,  15.05099822, 15.66781506,  16.2846319 ]])\n",
    "scores_diff = np.abs(scores - correct_scores).sum()\n",
    "assert scores_diff < 1e-6, 'Problem with test-time forward pass'\n",
    "\n",
    "print('Testing training loss (no regularization)')\n",
    "y = np.asarray([0, 5, 1])\n",
    "loss, grads = model.loss(X, y)\n",
    "correct_loss = 3.4702243556\n",
    "assert abs(loss - correct_loss) < 1e-10, 'Problem with training-time loss'\n",
    "\n",
    "model.reg = 1.0\n",
    "loss, grads = model.loss(X, y)\n",
    "correct_loss = 26.5948426952\n",
    "assert abs(loss - correct_loss) < 1e-10, 'Problem with regularization loss'\n",
    "\n",
    "# Errors should be around e-7 or less\n",
    "for reg in [0.0, 0.7]:\n",
    "  print('Running numeric gradient check with reg = ', reg)\n",
    "  model.reg = reg\n",
    "  loss, grads = model.loss(X, y)\n",
    "\n",
    "  for name in sorted(grads):\n",
    "    f = lambda _: model.loss(X, y)[0]\n",
    "    grad_num = eval_numerical_gradient(f, model.params[name], verbose=False)\n",
    "    print('%s relative error: %.2e' % (name, rel_error(grad_num, grads[name])))"
   ]
  },
  {
   "cell_type": "markdown",
   "metadata": {
    "colab_type": "text",
    "id": "8OG855oy-9Y1"
   },
   "source": [
    "# Solver\n",
    "In the previous assignment, the logic for training models was coupled to the models themselves. Following a more modular design, for this assignment we have split the logic for training models into a separate class.\n",
    "\n",
    "Open the file `cs231n/solver.py` and read through it to familiarize yourself with the API. After doing so, use a `Solver` instance to train a `TwoLayerNet` that achieves at least `50%` accuracy on the validation set."
   ]
  },
  {
   "cell_type": "code",
   "execution_count": 12,
   "metadata": {
    "colab": {
     "base_uri": "https://localhost:8080/",
     "height": 469
    },
    "colab_type": "code",
    "executionInfo": {
     "elapsed": 37109,
     "status": "ok",
     "timestamp": 1596903855394,
     "user": {
      "displayName": "Singhal Rajat Vikas cs17b042",
      "photoUrl": "",
      "userId": "09224506680049486870"
     },
     "user_tz": -330
    },
    "id": "tln_solver_accuracy",
    "outputId": "c1267a20-c950-42d2-eeaf-cc071cae972e"
   },
   "outputs": [
    {
     "name": "stdout",
     "output_type": "stream",
     "text": [
      "(Iteration 1 / 1715) loss: 2.315689\n",
      "(Epoch 0 / 7) train acc: 0.168000; val_acc: 0.143000\n",
      "(Iteration 101 / 1715) loss: 1.948082\n",
      "(Iteration 201 / 1715) loss: 1.644968\n",
      "(Epoch 1 / 7) train acc: 0.440000; val_acc: 0.426000\n",
      "(Iteration 301 / 1715) loss: 1.521974\n",
      "(Iteration 401 / 1715) loss: 1.595846\n",
      "(Epoch 2 / 7) train acc: 0.464000; val_acc: 0.459000\n",
      "(Iteration 501 / 1715) loss: 1.497338\n",
      "(Iteration 601 / 1715) loss: 1.379462\n",
      "(Iteration 701 / 1715) loss: 1.497489\n",
      "(Epoch 3 / 7) train acc: 0.460000; val_acc: 0.482000\n",
      "(Iteration 801 / 1715) loss: 1.492041\n",
      "(Iteration 901 / 1715) loss: 1.577112\n",
      "(Epoch 4 / 7) train acc: 0.512000; val_acc: 0.483000\n",
      "(Iteration 1001 / 1715) loss: 1.483549\n",
      "(Iteration 1101 / 1715) loss: 1.407061\n",
      "(Iteration 1201 / 1715) loss: 1.421568\n",
      "(Epoch 5 / 7) train acc: 0.525000; val_acc: 0.492000\n",
      "(Iteration 1301 / 1715) loss: 1.377769\n",
      "(Iteration 1401 / 1715) loss: 1.347836\n",
      "(Epoch 6 / 7) train acc: 0.552000; val_acc: 0.501000\n",
      "(Iteration 1501 / 1715) loss: 1.357699\n",
      "(Iteration 1601 / 1715) loss: 1.429821\n",
      "(Iteration 1701 / 1715) loss: 1.384208\n",
      "(Epoch 7 / 7) train acc: 0.558000; val_acc: 0.502000\n"
     ]
    }
   ],
   "source": [
    "model = TwoLayerNet()\n",
    "solver = None\n",
    "\n",
    "##############################################################################\n",
    "# TODO: Use a Solver instance to train a TwoLayerNet that achieves at least  #\n",
    "# 50% accuracy on the validation set.                                        #\n",
    "##############################################################################\n",
    "# *****START OF YOUR CODE (DO NOT DELETE/MODIFY THIS LINE)*****\n",
    "\n",
    "model = TwoLayerNet(reg=0.1)\n",
    "\n",
    "solver = Solver(model, data,\n",
    "                optim_config = {\n",
    "                    'learning_rate': 1e-3,\n",
    "                },\n",
    "                lr_decay=0.95,\n",
    "                num_epochs=7, batch_size=200,\n",
    "                print_every=100)\n",
    "\n",
    "solver.train()\n",
    "\n",
    "# *****END OF YOUR CODE (DO NOT DELETE/MODIFY THIS LINE)*****\n",
    "##############################################################################\n",
    "#                             END OF YOUR CODE                               #\n",
    "##############################################################################"
   ]
  },
  {
   "cell_type": "code",
   "execution_count": 13,
   "metadata": {
    "colab": {
     "base_uri": "https://localhost:8080/",
     "height": 730
    },
    "colab_type": "code",
    "executionInfo": {
     "elapsed": 1648,
     "status": "ok",
     "timestamp": 1596903862417,
     "user": {
      "displayName": "Singhal Rajat Vikas cs17b042",
      "photoUrl": "",
      "userId": "09224506680049486870"
     },
     "user_tz": -330
    },
    "id": "e46uVdWe-9Y8",
    "outputId": "b0e46ad7-2904-4cda-898a-39e11348e18b"
   },
   "outputs": [
    {
     "data": {
      "image/png": "[encoded data removed]",
      "text/plain": [
       "<Figure size 1080x864 with 2 Axes>"
      ]
     },
     "metadata": {
      "needs_background": "light",
      "tags": []
     },
     "output_type": "display_data"
    }
   ],
   "source": [
    "# Run this cell to visualize training loss and train / val accuracy\n",
    "\n",
    "plt.subplot(2, 1, 1)\n",
    "plt.title('Training loss')\n",
    "plt.plot(solver.loss_history, 'o')\n",
    "plt.xlabel('Iteration')\n",
    "\n",
    "plt.subplot(2, 1, 2)\n",
    "plt.title('Accuracy')\n",
    "plt.plot(solver.train_acc_history, '-o', label='train')\n",
    "plt.plot(solver.val_acc_history, '-o', label='val')\n",
    "plt.plot([0.5] * len(solver.val_acc_history), 'k--')\n",
    "plt.xlabel('Epoch')\n",
    "plt.legend(loc='lower right')\n",
    "plt.gcf().set_size_inches(15, 12)\n",
    "plt.show()"
   ]
  },
  {
   "cell_type": "markdown",
   "metadata": {
    "colab_type": "text",
    "id": "WOjsgwck-9ZA"
   },
   "source": [
    "# Multilayer network\n",
    "Next you will implement a fully-connected network with an arbitrary number of hidden layers.\n",
    "\n",
    "Read through the `FullyConnectedNet` class in the file `cs231n/classifiers/fc_net.py`.\n",
    "\n",
    "Implement the initialization, the forward pass, and the backward pass. For the moment don't worry about implementing dropout or batch/layer normalization; we will add those features soon."
   ]
  },
  {
   "cell_type": "markdown",
   "metadata": {
    "colab_type": "text",
    "id": "SReJaLwB-9ZB"
   },
   "source": [
    "## Initial loss and gradient check\n",
    "\n",
    "As a sanity check, run the following to check the initial loss and to gradient check the network both with and without regularization. Do the initial losses seem reasonable?\n",
    "\n",
    "For gradient checking, you should expect to see errors around 1e-7 or less."
   ]
  },
  {
   "cell_type": "code",
   "execution_count": 14,
   "metadata": {
    "colab": {
     "base_uri": "https://localhost:8080/",
     "height": 295
    },
    "colab_type": "code",
    "executionInfo": {
     "elapsed": 2126,
     "status": "ok",
     "timestamp": 1596903871242,
     "user": {
      "displayName": "Singhal Rajat Vikas cs17b042",
      "photoUrl": "",
      "userId": "09224506680049486870"
     },
     "user_tz": -330
    },
    "id": "4SdHQxYy-9ZD",
    "outputId": "53ea3f54-824d-4bab-b209-ecbc0790a248"
   },
   "outputs": [
    {
     "name": "stdout",
     "output_type": "stream",
     "text": [
      "Running check with reg =  0\n",
      "Initial loss:  2.3004790897684924\n",
      "W1 relative error: 1.48e-07\n",
      "W2 relative error: 2.21e-05\n",
      "W3 relative error: 3.53e-07\n",
      "b1 relative error: 5.38e-09\n",
      "b2 relative error: 2.09e-09\n",
      "b3 relative error: 5.80e-11\n",
      "Running check with reg =  3.14\n",
      "Initial loss:  7.052114776533016\n",
      "W1 relative error: 1.14e-08\n",
      "W2 relative error: 6.87e-08\n",
      "W3 relative error: 3.48e-08\n",
      "b1 relative error: 1.48e-08\n",
      "b2 relative error: 1.72e-09\n",
      "b3 relative error: 1.80e-10\n"
     ]
    }
   ],
   "source": [
    "np.random.seed(231)\n",
    "N, D, H1, H2, C = 2, 15, 20, 30, 10\n",
    "X = np.random.randn(N, D)\n",
    "y = np.random.randint(C, size=(N,))\n",
    "\n",
    "for reg in [0, 3.14]:\n",
    "  print('Running check with reg = ', reg)\n",
    "  model = FullyConnectedNet([H1, H2], input_dim=D, num_classes=C,\n",
    "                            reg=reg, weight_scale=5e-2, dtype=np.float64)\n",
    "\n",
    "  loss, grads = model.loss(X, y)\n",
    "  print('Initial loss: ', loss)\n",
    "  \n",
    "  # Most of the errors should be on the order of e-7 or smaller.   \n",
    "  # NOTE: It is fine however to see an error for W2 on the order of e-5\n",
    "  # for the check when reg = 0.0\n",
    "  for name in sorted(grads):\n",
    "    f = lambda _: model.loss(X, y)[0]\n",
    "    grad_num = eval_numerical_gradient(f, model.params[name], verbose=False, h=1e-5)\n",
    "    print('%s relative error: %.2e' % (name, rel_error(grad_num, grads[name])))"
   ]
  },
  {
   "cell_type": "markdown",
   "metadata": {
    "colab_type": "text",
    "id": "CvdRZSW7-9ZH"
   },
   "source": [
    "As another sanity check, make sure you can overfit a small dataset of 50 images. First we will try a three-layer network with 100 units in each hidden layer. In the following cell, tweak the **learning rate** and **weight initialization scale** to overfit and achieve 100% training accuracy within 20 epochs."
   ]
  },
  {
   "cell_type": "code",
   "execution_count": 21,
   "metadata": {
    "colab": {
     "base_uri": "https://localhost:8080/",
     "height": 947
    },
    "colab_type": "code",
    "executionInfo": {
     "elapsed": 2067,
     "status": "ok",
     "timestamp": 1596904015828,
     "user": {
      "displayName": "Singhal Rajat Vikas cs17b042",
      "photoUrl": "",
      "userId": "09224506680049486870"
     },
     "user_tz": -330
    },
    "id": "RU5axelC-9ZI",
    "outputId": "422c7390-eb43-43ff-ed5a-7120af7069bf",
    "scrolled": false
   },
   "outputs": [
    {
     "name": "stdout",
     "output_type": "stream",
     "text": [
      "(Iteration 1 / 40) loss: 2.752584\n",
      "(Epoch 0 / 20) train acc: 0.240000; val_acc: 0.096000\n",
      "(Epoch 1 / 20) train acc: 0.320000; val_acc: 0.126000\n",
      "(Epoch 2 / 20) train acc: 0.420000; val_acc: 0.115000\n",
      "(Epoch 3 / 20) train acc: 0.820000; val_acc: 0.158000\n",
      "(Epoch 4 / 20) train acc: 0.860000; val_acc: 0.158000\n",
      "(Epoch 5 / 20) train acc: 0.940000; val_acc: 0.170000\n",
      "(Iteration 11 / 40) loss: 0.593198\n",
      "(Epoch 6 / 20) train acc: 0.960000; val_acc: 0.166000\n",
      "(Epoch 7 / 20) train acc: 0.980000; val_acc: 0.163000\n",
      "(Epoch 8 / 20) train acc: 0.980000; val_acc: 0.163000\n",
      "(Epoch 9 / 20) train acc: 0.980000; val_acc: 0.178000\n",
      "(Epoch 10 / 20) train acc: 0.980000; val_acc: 0.185000\n",
      "(Iteration 21 / 40) loss: 0.029077\n",
      "(Epoch 11 / 20) train acc: 0.980000; val_acc: 0.164000\n",
      "(Epoch 12 / 20) train acc: 0.980000; val_acc: 0.166000\n",
      "(Epoch 13 / 20) train acc: 0.980000; val_acc: 0.165000\n",
      "(Epoch 14 / 20) train acc: 0.980000; val_acc: 0.191000\n",
      "(Epoch 15 / 20) train acc: 1.000000; val_acc: 0.167000\n",
      "(Iteration 31 / 40) loss: 0.017069\n",
      "(Epoch 16 / 20) train acc: 1.000000; val_acc: 0.174000\n",
      "(Epoch 17 / 20) train acc: 1.000000; val_acc: 0.179000\n",
      "(Epoch 18 / 20) train acc: 1.000000; val_acc: 0.174000\n",
      "(Epoch 19 / 20) train acc: 1.000000; val_acc: 0.175000\n",
      "(Epoch 20 / 20) train acc: 1.000000; val_acc: 0.173000\n"
     ]
    },
    {
     "data": {
      "image/png": "[encoded data removed]",
      "text/plain": [
       "<Figure size 720x576 with 1 Axes>"
      ]
     },
     "metadata": {
      "needs_background": "light",
      "tags": []
     },
     "output_type": "display_data"
    }
   ],
   "source": [
    "# TODO: Use a three-layer Net to overfit 50 training examples by \n",
    "# tweaking just the learning rate and initialization scale.\n",
    "\n",
    "num_train = 50\n",
    "small_data = {\n",
    "  'X_train': data['X_train'][:num_train],\n",
    "  'y_train': data['y_train'][:num_train],\n",
    "  'X_val': data['X_val'],\n",
    "  'y_val': data['y_val'],\n",
    "}\n",
    "\n",
    "weight_scale = 2e-2   # Experiment with this!\n",
    "learning_rate = 1e-2  # Experiment with this!\n",
    "model = FullyConnectedNet([100, 100],\n",
    "              weight_scale=weight_scale, dtype=np.float64)\n",
    "solver = Solver(model, small_data,\n",
    "                print_every=10, num_epochs=20, batch_size=25,\n",
    "                update_rule='sgd',\n",
    "                optim_config={\n",
    "                  'learning_rate': learning_rate,\n",
    "                }\n",
    "         )\n",
    "solver.train()\n",
    "\n",
    "plt.plot(solver.loss_history, 'o')\n",
    "plt.title('Training loss history')\n",
    "plt.xlabel('Iteration')\n",
    "plt.ylabel('Training loss')\n",
    "plt.show()"
   ]
  },
  {
   "cell_type": "markdown",
   "metadata": {
    "colab_type": "text",
    "id": "HOBM3N_e-9ZM"
   },
   "source": [
    "Now try to use a five-layer network with 100 units on each layer to overfit 50 training examples. Again, you will have to adjust the learning rate and weight initialization scale, but you should be able to achieve 100% training accuracy within 20 epochs."
   ]
  },
  {
   "cell_type": "code",
   "execution_count": 22,
   "metadata": {
    "colab": {
     "base_uri": "https://localhost:8080/",
     "height": 947
    },
    "colab_type": "code",
    "executionInfo": {
     "elapsed": 2728,
     "status": "ok",
     "timestamp": 1596904033642,
     "user": {
      "displayName": "Singhal Rajat Vikas cs17b042",
      "photoUrl": "",
      "userId": "09224506680049486870"
     },
     "user_tz": -330
    },
    "id": "Oh_OCA-e-9ZN",
    "outputId": "0f9b6ed8-ed42-4436-d5e6-9fabc9541700"
   },
   "outputs": [
    {
     "name": "stdout",
     "output_type": "stream",
     "text": [
      "(Iteration 1 / 40) loss: 15286.088271\n",
      "(Epoch 0 / 20) train acc: 0.260000; val_acc: 0.097000\n",
      "(Epoch 1 / 20) train acc: 0.300000; val_acc: 0.105000\n",
      "(Epoch 2 / 20) train acc: 0.400000; val_acc: 0.115000\n",
      "(Epoch 3 / 20) train acc: 0.680000; val_acc: 0.128000\n",
      "(Epoch 4 / 20) train acc: 0.660000; val_acc: 0.148000\n",
      "(Epoch 5 / 20) train acc: 0.800000; val_acc: 0.127000\n",
      "(Iteration 11 / 40) loss: 601.459983\n",
      "(Epoch 6 / 20) train acc: 0.860000; val_acc: 0.135000\n",
      "(Epoch 7 / 20) train acc: 0.920000; val_acc: 0.135000\n",
      "(Epoch 8 / 20) train acc: 0.940000; val_acc: 0.134000\n",
      "(Epoch 9 / 20) train acc: 0.880000; val_acc: 0.131000\n",
      "(Epoch 10 / 20) train acc: 0.920000; val_acc: 0.126000\n",
      "(Iteration 21 / 40) loss: 324.376493\n",
      "(Epoch 11 / 20) train acc: 0.980000; val_acc: 0.139000\n",
      "(Epoch 12 / 20) train acc: 1.000000; val_acc: 0.139000\n",
      "(Epoch 13 / 20) train acc: 1.000000; val_acc: 0.139000\n",
      "(Epoch 14 / 20) train acc: 1.000000; val_acc: 0.139000\n",
      "(Epoch 15 / 20) train acc: 1.000000; val_acc: 0.139000\n",
      "(Iteration 31 / 40) loss: 0.000000\n",
      "(Epoch 16 / 20) train acc: 1.000000; val_acc: 0.139000\n",
      "(Epoch 17 / 20) train acc: 1.000000; val_acc: 0.139000\n",
      "(Epoch 18 / 20) train acc: 1.000000; val_acc: 0.139000\n",
      "(Epoch 19 / 20) train acc: 1.000000; val_acc: 0.139000\n",
      "(Epoch 20 / 20) train acc: 1.000000; val_acc: 0.139000\n"
     ]
    },
    {
     "data": {
      "image/png": "[encoded data removed]",
      "text/plain": [
       "<Figure size 720x576 with 1 Axes>"
      ]
     },
     "metadata": {
      "needs_background": "light",
      "tags": []
     },
     "output_type": "display_data"
    }
   ],
   "source": [
    "# TODO: Use a five-layer Net to overfit 50 training examples by \n",
    "# tweaking just the learning rate and initialization scale.\n",
    "\n",
    "num_train = 50\n",
    "small_data = {\n",
    "  'X_train': data['X_train'][:num_train],\n",
    "  'y_train': data['y_train'][:num_train],\n",
    "  'X_val': data['X_val'],\n",
    "  'y_val': data['y_val'],\n",
    "}\n",
    "\n",
    "learning_rate = 2e-5  # Experiment with this!\n",
    "weight_scale = 3e-1   # Experiment with this!\n",
    "model = FullyConnectedNet([100, 100, 100, 100],\n",
    "                weight_scale=weight_scale, dtype=np.float64)\n",
    "solver = Solver(model, small_data,\n",
    "                print_every=10, num_epochs=20, batch_size=25,\n",
    "                update_rule='sgd',\n",
    "                optim_config={\n",
    "                  'learning_rate': learning_rate,\n",
    "                }\n",
    "         )\n",
    "solver.train()\n",
    "\n",
    "plt.plot(solver.loss_history, 'o')\n",
    "plt.title('Training loss history')\n",
    "plt.xlabel('Iteration')\n",
    "plt.ylabel('Training loss')\n",
    "plt.show()"
   ]
  },
  {
   "cell_type": "markdown",
   "metadata": {
    "colab_type": "text",
    "id": "yI0oVK5x-9ZR",
    "tags": [
     "pdf-inline"
    ]
   },
   "source": [
    "## Inline Question 2: \n",
    "Did you notice anything about the comparative difficulty of training the three-layer net vs training the five layer net? In particular, based on your experience, which network seemed more sensitive to the initialization scale? Why do you think that is the case?\n",
    "\n",
    "## Answer:\n",
    "[FILL THIS IN]\n"
   ]
  },
  {
   "cell_type": "markdown",
   "metadata": {
    "colab_type": "text",
    "id": "UniIY2Sw-9ZS"
   },
   "source": [
    "# Update rules\n",
    "So far we have used vanilla stochastic gradient descent (SGD) as our update rule. More sophisticated update rules can make it easier to train deep networks. We will implement a few of the most commonly used update rules and compare them to vanilla SGD."
   ]
  },
  {
   "cell_type": "markdown",
   "metadata": {
    "colab_type": "text",
    "id": "A0EhXNXs-9ZS"
   },
   "source": [
    "# SGD+Momentum\n",
    "Stochastic gradient descent with momentum is a widely used update rule that tends to make deep networks converge faster than vanilla stochastic gradient descent. See the Momentum Update section at http://cs231n.github.io/neural-networks-3/#sgd for more information.\n",
    "\n",
    "Open the file `cs231n/optim.py` and read the documentation at the top of the file to make sure you understand the API. Implement the SGD+momentum update rule in the function `sgd_momentum` and run the following to check your implementation. You should see errors less than e-8."
   ]
  },
  {
   "cell_type": "code",
   "execution_count": 23,
   "metadata": {
    "colab": {
     "base_uri": "https://localhost:8080/",
     "height": 52
    },
    "colab_type": "code",
    "executionInfo": {
     "elapsed": 1368,
     "status": "ok",
     "timestamp": 1596904043872,
     "user": {
      "displayName": "Singhal Rajat Vikas cs17b042",
      "photoUrl": "",
      "userId": "09224506680049486870"
     },
     "user_tz": -330
    },
    "id": "jYgSBuK8-9ZU",
    "outputId": "5706fc53-d8ef-4a74-b52d-881457426577"
   },
   "outputs": [
    {
     "name": "stdout",
     "output_type": "stream",
     "text": [
      "next_w error:  8.882347033505819e-09\n",
      "velocity error:  4.269287743278663e-09\n"
     ]
    }
   ],
   "source": [
    "from cs231n.optim import sgd_momentum\n",
    "\n",
    "N, D = 4, 5\n",
    "w = np.linspace(-0.4, 0.6, num=N*D).reshape(N, D)\n",
    "dw = np.linspace(-0.6, 0.4, num=N*D).reshape(N, D)\n",
    "v = np.linspace(0.6, 0.9, num=N*D).reshape(N, D)\n",
    "\n",
    "config = {'learning_rate': 1e-3, 'velocity': v}\n",
    "next_w, _ = sgd_momentum(w, dw, config=config)\n",
    "\n",
    "expected_next_w = np.asarray([\n",
    "  [ 0.1406,      0.20738947,  0.27417895,  0.34096842,  0.40775789],\n",
    "  [ 0.47454737,  0.54133684,  0.60812632,  0.67491579,  0.74170526],\n",
    "  [ 0.80849474,  0.87528421,  0.94207368,  1.00886316,  1.07565263],\n",
    "  [ 1.14244211,  1.20923158,  1.27602105,  1.34281053,  1.4096    ]])\n",
    "expected_velocity = np.asarray([\n",
    "  [ 0.5406,      0.55475789,  0.56891579, 0.58307368,  0.59723158],\n",
    "  [ 0.61138947,  0.62554737,  0.63970526,  0.65386316,  0.66802105],\n",
    "  [ 0.68217895,  0.69633684,  0.71049474,  0.72465263,  0.73881053],\n",
    "  [ 0.75296842,  0.76712632,  0.78128421,  0.79544211,  0.8096    ]])\n",
    "\n",
    "# Should see relative errors around e-8 or less\n",
    "print('next_w error: ', rel_error(next_w, expected_next_w))\n",
    "print('velocity error: ', rel_error(expected_velocity, config['velocity']))"
   ]
  },
  {
   "cell_type": "markdown",
   "metadata": {
    "colab_type": "text",
    "id": "TM1KL3Og-9ZX"
   },
   "source": [
    "Once you have done so, run the following to train a six-layer network with both SGD and SGD+momentum. You should see the SGD+momentum update rule converge faster."
   ]
  },
  {
   "cell_type": "code",
   "execution_count": 24,
   "metadata": {
    "colab": {
     "base_uri": "https://localhost:8080/",
     "height": 1000
    },
    "colab_type": "code",
    "executionInfo": {
     "elapsed": 6794,
     "status": "ok",
     "timestamp": 1596904053535,
     "user": {
      "displayName": "Singhal Rajat Vikas cs17b042",
      "photoUrl": "",
      "userId": "09224506680049486870"
     },
     "user_tz": -330
    },
    "id": "noeGxwF0-9ZY",
    "outputId": "93418cc0-5055-46c4-d511-3aff393c5c3f",
    "scrolled": false
   },
   "outputs": [
    {
     "name": "stdout",
     "output_type": "stream",
     "text": [
      "running with  sgd\n",
      "(Iteration 1 / 200) loss: 2.748383\n",
      "(Epoch 0 / 5) train acc: 0.121000; val_acc: 0.112000\n",
      "(Iteration 11 / 200) loss: 2.252412\n",
      "(Iteration 21 / 200) loss: 2.230338\n",
      "(Iteration 31 / 200) loss: 2.174869\n",
      "(Epoch 1 / 5) train acc: 0.208000; val_acc: 0.204000\n",
      "(Iteration 41 / 200) loss: 2.108341\n",
      "(Iteration 51 / 200) loss: 2.124891\n",
      "(Iteration 61 / 200) loss: 2.040889\n",
      "(Iteration 71 / 200) loss: 2.018600\n",
      "(Epoch 2 / 5) train acc: 0.305000; val_acc: 0.273000\n",
      "(Iteration 81 / 200) loss: 2.035069\n",
      "(Iteration 91 / 200) loss: 1.781104\n",
      "(Iteration 101 / 200) loss: 1.879256\n",
      "(Iteration 111 / 200) loss: 1.905530\n",
      "(Epoch 3 / 5) train acc: 0.343000; val_acc: 0.298000\n",
      "(Iteration 121 / 200) loss: 1.916609\n",
      "(Iteration 131 / 200) loss: 1.878322\n",
      "(Iteration 141 / 200) loss: 2.013871\n",
      "(Iteration 151 / 200) loss: 1.767292\n",
      "(Epoch 4 / 5) train acc: 0.337000; val_acc: 0.310000\n",
      "(Iteration 161 / 200) loss: 1.878044\n",
      "(Iteration 171 / 200) loss: 1.835560\n",
      "(Iteration 181 / 200) loss: 1.788836\n",
      "(Iteration 191 / 200) loss: 1.682198\n",
      "(Epoch 5 / 5) train acc: 0.350000; val_acc: 0.321000\n",
      "\n",
      "running with  sgd_momentum\n",
      "(Iteration 1 / 200) loss: 2.558657\n",
      "(Epoch 0 / 5) train acc: 0.060000; val_acc: 0.061000\n",
      "(Iteration 11 / 200) loss: 2.175207\n",
      "(Iteration 21 / 200) loss: 2.211358\n",
      "(Iteration 31 / 200) loss: 1.902869\n",
      "(Epoch 1 / 5) train acc: 0.287000; val_acc: 0.266000\n",
      "(Iteration 41 / 200) loss: 2.061282\n",
      "(Iteration 51 / 200) loss: 1.900820\n",
      "(Iteration 61 / 200) loss: 1.637643\n",
      "(Iteration 71 / 200) loss: 1.737768\n",
      "(Epoch 2 / 5) train acc: 0.387000; val_acc: 0.332000\n",
      "(Iteration 81 / 200) loss: 1.754405\n",
      "(Iteration 91 / 200) loss: 1.703593\n",
      "(Iteration 101 / 200) loss: 1.647001\n",
      "(Iteration 111 / 200) loss: 1.779200\n",
      "(Epoch 3 / 5) train acc: 0.443000; val_acc: 0.354000\n",
      "(Iteration 121 / 200) loss: 1.553834\n",
      "(Iteration 131 / 200) loss: 1.529652\n",
      "(Iteration 141 / 200) loss: 1.688978\n",
      "(Iteration 151 / 200) loss: 1.319015\n",
      "(Epoch 4 / 5) train acc: 0.477000; val_acc: 0.345000\n",
      "(Iteration 161 / 200) loss: 1.407255\n",
      "(Iteration 171 / 200) loss: 1.453117\n",
      "(Iteration 181 / 200) loss: 1.242028\n",
      "(Iteration 191 / 200) loss: 1.325055\n",
      "(Epoch 5 / 5) train acc: 0.550000; val_acc: 0.385000\n",
      "\n"
     ]
    },
    {
     "name": "stderr",
     "output_type": "stream",
     "text": [
      "/usr/local/lib/python3.6/dist-packages/ipykernel_launcher.py:39: MatplotlibDeprecationWarning: Adding an axes using the same arguments as a previous axes currently reuses the earlier instance.  In a future version, a new instance will always be created and returned.  Meanwhile, this warning can be suppressed, and the future behavior ensured, by passing a unique label to each axes instance.\n",
      "/usr/local/lib/python3.6/dist-packages/ipykernel_launcher.py:42: MatplotlibDeprecationWarning: Adding an axes using the same arguments as a previous axes currently reuses the earlier instance.  In a future version, a new instance will always be created and returned.  Meanwhile, this warning can be suppressed, and the future behavior ensured, by passing a unique label to each axes instance.\n",
      "/usr/local/lib/python3.6/dist-packages/ipykernel_launcher.py:45: MatplotlibDeprecationWarning: Adding an axes using the same arguments as a previous axes currently reuses the earlier instance.  In a future version, a new instance will always be created and returned.  Meanwhile, this warning can be suppressed, and the future behavior ensured, by passing a unique label to each axes instance.\n",
      "/usr/local/lib/python3.6/dist-packages/ipykernel_launcher.py:49: MatplotlibDeprecationWarning: Adding an axes using the same arguments as a previous axes currently reuses the earlier instance.  In a future version, a new instance will always be created and returned.  Meanwhile, this warning can be suppressed, and the future behavior ensured, by passing a unique label to each axes instance.\n"
     ]
    },
    {
     "data": {
      "image/png": "[encoded data removed]",
      "text/plain": [
       "<Figure size 1080x1080 with 3 Axes>"
      ]
     },
     "metadata": {
      "needs_background": "light",
      "tags": []
     },
     "output_type": "display_data"
    }
   ],
   "source": [
    "num_train = 4000\n",
    "small_data = {\n",
    "  'X_train': data['X_train'][:num_train],\n",
    "  'y_train': data['y_train'][:num_train],\n",
    "  'X_val': data['X_val'],\n",
    "  'y_val': data['y_val'],\n",
    "}\n",
    "\n",
    "solvers = {}\n",
    "\n",
    "for update_rule in ['sgd', 'sgd_momentum']:\n",
    "  print('running with ', update_rule)\n",
    "  model = FullyConnectedNet([100, 100, 100, 100, 100], weight_scale=5e-2)\n",
    "\n",
    "  solver = Solver(model, small_data,\n",
    "                  num_epochs=5, batch_size=100,\n",
    "                  update_rule=update_rule,\n",
    "                  optim_config={\n",
    "                    'learning_rate': 5e-3,\n",
    "                  },\n",
    "                  verbose=True)\n",
    "  solvers[update_rule] = solver\n",
    "  solver.train()\n",
    "  print()\n",
    "\n",
    "plt.subplot(3, 1, 1)\n",
    "plt.title('Training loss')\n",
    "plt.xlabel('Iteration')\n",
    "\n",
    "plt.subplot(3, 1, 2)\n",
    "plt.title('Training accuracy')\n",
    "plt.xlabel('Epoch')\n",
    "\n",
    "plt.subplot(3, 1, 3)\n",
    "plt.title('Validation accuracy')\n",
    "plt.xlabel('Epoch')\n",
    "\n",
    "for update_rule, solver in solvers.items():\n",
    "  plt.subplot(3, 1, 1)\n",
    "  plt.plot(solver.loss_history, 'o', label=\"loss_%s\" % update_rule)\n",
    "  \n",
    "  plt.subplot(3, 1, 2)\n",
    "  plt.plot(solver.train_acc_history, '-o', label=\"train_acc_%s\" % update_rule)\n",
    "\n",
    "  plt.subplot(3, 1, 3)\n",
    "  plt.plot(solver.val_acc_history, '-o', label=\"val_acc_%s\" % update_rule)\n",
    "  \n",
    "for i in [1, 2, 3]:\n",
    "  plt.subplot(3, 1, i)\n",
    "  plt.legend(loc='upper center', ncol=4)\n",
    "plt.gcf().set_size_inches(15, 15)\n",
    "plt.show()"
   ]
  },
  {
   "cell_type": "markdown",
   "metadata": {
    "colab_type": "text",
    "id": "Zy8tB9e7-9Zc"
   },
   "source": [
    "# RMSProp and Adam\n",
    "RMSProp [1] and Adam [2] are update rules that set per-parameter learning rates by using a running average of the second moments of gradients.\n",
    "\n",
    "In the file `cs231n/optim.py`, implement the RMSProp update rule in the `rmsprop` function and implement the Adam update rule in the `adam` function, and check your implementations using the tests below.\n",
    "\n",
    "**NOTE:** Please implement the _complete_ Adam update rule (with the bias correction mechanism), not the first simplified version mentioned in the course notes. \n",
    "\n",
    "[1] Tijmen Tieleman and Geoffrey Hinton. \"Lecture 6.5-rmsprop: Divide the gradient by a running average of its recent magnitude.\" COURSERA: Neural Networks for Machine Learning 4 (2012).\n",
    "\n",
    "[2] Diederik Kingma and Jimmy Ba, \"Adam: A Method for Stochastic Optimization\", ICLR 2015."
   ]
  },
  {
   "cell_type": "code",
   "execution_count": 25,
   "metadata": {
    "colab": {
     "base_uri": "https://localhost:8080/",
     "height": 52
    },
    "colab_type": "code",
    "executionInfo": {
     "elapsed": 1102,
     "status": "ok",
     "timestamp": 1596904059448,
     "user": {
      "displayName": "Singhal Rajat Vikas cs17b042",
      "photoUrl": "",
      "userId": "09224506680049486870"
     },
     "user_tz": -330
    },
    "id": "UnfA9V3B-9Zd",
    "outputId": "79c97987-5e0d-4ce5-89b9-1119b3168ee7"
   },
   "outputs": [
    {
     "name": "stdout",
     "output_type": "stream",
     "text": [
      "next_w error:  9.524687511038133e-08\n",
      "cache error:  2.6477955807156126e-09\n"
     ]
    }
   ],
   "source": [
    "# Test RMSProp implementation\n",
    "from cs231n.optim import rmsprop\n",
    "\n",
    "N, D = 4, 5\n",
    "w = np.linspace(-0.4, 0.6, num=N*D).reshape(N, D)\n",
    "dw = np.linspace(-0.6, 0.4, num=N*D).reshape(N, D)\n",
    "cache = np.linspace(0.6, 0.9, num=N*D).reshape(N, D)\n",
    "\n",
    "config = {'learning_rate': 1e-2, 'cache': cache}\n",
    "next_w, _ = rmsprop(w, dw, config=config)\n",
    "\n",
    "expected_next_w = np.asarray([\n",
    "  [-0.39223849, -0.34037513, -0.28849239, -0.23659121, -0.18467247],\n",
    "  [-0.132737,   -0.08078555, -0.02881884,  0.02316247,  0.07515774],\n",
    "  [ 0.12716641,  0.17918792,  0.23122175,  0.28326742,  0.33532447],\n",
    "  [ 0.38739248,  0.43947102,  0.49155973,  0.54365823,  0.59576619]])\n",
    "expected_cache = np.asarray([\n",
    "  [ 0.5976,      0.6126277,   0.6277108,   0.64284931,  0.65804321],\n",
    "  [ 0.67329252,  0.68859723,  0.70395734,  0.71937285,  0.73484377],\n",
    "  [ 0.75037008,  0.7659518,   0.78158892,  0.79728144,  0.81302936],\n",
    "  [ 0.82883269,  0.84469141,  0.86060554,  0.87657507,  0.8926    ]])\n",
    "\n",
    "# You should see relative errors around e-7 or less\n",
    "print('next_w error: ', rel_error(expected_next_w, next_w))\n",
    "print('cache error: ', rel_error(expected_cache, config['cache']))"
   ]
  },
  {
   "cell_type": "code",
   "execution_count": 26,
   "metadata": {
    "colab": {
     "base_uri": "https://localhost:8080/",
     "height": 69
    },
    "colab_type": "code",
    "executionInfo": {
     "elapsed": 1212,
     "status": "ok",
     "timestamp": 1596904063397,
     "user": {
      "displayName": "Singhal Rajat Vikas cs17b042",
      "photoUrl": "",
      "userId": "09224506680049486870"
     },
     "user_tz": -330
    },
    "id": "jJO-EN1E-9Zg",
    "outputId": "3f5412dd-fe90-493c-86ca-34545d5270a4"
   },
   "outputs": [
    {
     "name": "stdout",
     "output_type": "stream",
     "text": [
      "next_w error:  1.1395691798535431e-07\n",
      "v error:  4.208314038113071e-09\n",
      "m error:  4.214963193114416e-09\n"
     ]
    }
   ],
   "source": [
    "# Test Adam implementation\n",
    "from cs231n.optim import adam\n",
    "\n",
    "N, D = 4, 5\n",
    "w = np.linspace(-0.4, 0.6, num=N*D).reshape(N, D)\n",
    "dw = np.linspace(-0.6, 0.4, num=N*D).reshape(N, D)\n",
    "m = np.linspace(0.6, 0.9, num=N*D).reshape(N, D)\n",
    "v = np.linspace(0.7, 0.5, num=N*D).reshape(N, D)\n",
    "\n",
    "config = {'learning_rate': 1e-2, 'm': m, 'v': v, 't': 5}\n",
    "next_w, _ = adam(w, dw, config=config)\n",
    "\n",
    "expected_next_w = np.asarray([\n",
    "  [-0.40094747, -0.34836187, -0.29577703, -0.24319299, -0.19060977],\n",
    "  [-0.1380274,  -0.08544591, -0.03286534,  0.01971428,  0.0722929],\n",
    "  [ 0.1248705,   0.17744702,  0.23002243,  0.28259667,  0.33516969],\n",
    "  [ 0.38774145,  0.44031188,  0.49288093,  0.54544852,  0.59801459]])\n",
    "expected_v = np.asarray([\n",
    "  [ 0.69966,     0.68908382,  0.67851319,  0.66794809,  0.65738853,],\n",
    "  [ 0.64683452,  0.63628604,  0.6257431,   0.61520571,  0.60467385,],\n",
    "  [ 0.59414753,  0.58362676,  0.57311152,  0.56260183,  0.55209767,],\n",
    "  [ 0.54159906,  0.53110598,  0.52061845,  0.51013645,  0.49966,   ]])\n",
    "expected_m = np.asarray([\n",
    "  [ 0.48,        0.49947368,  0.51894737,  0.53842105,  0.55789474],\n",
    "  [ 0.57736842,  0.59684211,  0.61631579,  0.63578947,  0.65526316],\n",
    "  [ 0.67473684,  0.69421053,  0.71368421,  0.73315789,  0.75263158],\n",
    "  [ 0.77210526,  0.79157895,  0.81105263,  0.83052632,  0.85      ]])\n",
    "\n",
    "# You should see relative errors around e-7 or less\n",
    "print('next_w error: ', rel_error(expected_next_w, next_w))\n",
    "print('v error: ', rel_error(expected_v, config['v']))\n",
    "print('m error: ', rel_error(expected_m, config['m']))"
   ]
  },
  {
   "cell_type": "markdown",
   "metadata": {
    "colab_type": "text",
    "id": "VgRMeZrZ-9Zk"
   },
   "source": [
    "Once you have debugged your RMSProp and Adam implementations, run the following to train a pair of deep networks using these new update rules:"
   ]
  },
  {
   "cell_type": "code",
   "execution_count": 27,
   "metadata": {
    "colab": {
     "base_uri": "https://localhost:8080/",
     "height": 1000
    },
    "colab_type": "code",
    "executionInfo": {
     "elapsed": 8199,
     "status": "ok",
     "timestamp": 1596904074623,
     "user": {
      "displayName": "Singhal Rajat Vikas cs17b042",
      "photoUrl": "",
      "userId": "09224506680049486870"
     },
     "user_tz": -330
    },
    "id": "MGzYkhKZ-9Zm",
    "outputId": "b7f724dc-f22f-40d9-a3bb-dcbf9ffb54fd"
   },
   "outputs": [
    {
     "name": "stdout",
     "output_type": "stream",
     "text": [
      "running with  adam\n",
      "(Iteration 1 / 200) loss: 2.573898\n",
      "(Epoch 0 / 5) train acc: 0.125000; val_acc: 0.103000\n",
      "(Iteration 11 / 200) loss: 2.072208\n",
      "(Iteration 21 / 200) loss: 1.967709\n",
      "(Iteration 31 / 200) loss: 1.938621\n",
      "(Epoch 1 / 5) train acc: 0.389000; val_acc: 0.329000\n",
      "(Iteration 41 / 200) loss: 1.841500\n",
      "(Iteration 51 / 200) loss: 1.584855\n",
      "(Iteration 61 / 200) loss: 1.602480\n",
      "(Iteration 71 / 200) loss: 1.530184\n",
      "(Epoch 2 / 5) train acc: 0.443000; val_acc: 0.346000\n",
      "(Iteration 81 / 200) loss: 1.670397\n",
      "(Iteration 91 / 200) loss: 1.618871\n",
      "(Iteration 101 / 200) loss: 1.443344\n",
      "(Iteration 111 / 200) loss: 1.698377\n",
      "(Epoch 3 / 5) train acc: 0.461000; val_acc: 0.371000\n",
      "(Iteration 121 / 200) loss: 1.580462\n",
      "(Iteration 131 / 200) loss: 1.458817\n",
      "(Iteration 141 / 200) loss: 1.271011\n",
      "(Iteration 151 / 200) loss: 1.194042\n",
      "(Epoch 4 / 5) train acc: 0.507000; val_acc: 0.345000\n",
      "(Iteration 161 / 200) loss: 1.414805\n",
      "(Iteration 171 / 200) loss: 1.358016\n",
      "(Iteration 181 / 200) loss: 1.461522\n",
      "(Iteration 191 / 200) loss: 1.236910\n",
      "(Epoch 5 / 5) train acc: 0.564000; val_acc: 0.371000\n",
      "\n",
      "running with  rmsprop\n",
      "(Iteration 1 / 200) loss: 3.456061\n",
      "(Epoch 0 / 5) train acc: 0.127000; val_acc: 0.145000\n",
      "(Iteration 11 / 200) loss: 2.160768\n",
      "(Iteration 21 / 200) loss: 1.928768\n",
      "(Iteration 31 / 200) loss: 1.972654\n",
      "(Epoch 1 / 5) train acc: 0.395000; val_acc: 0.290000\n",
      "(Iteration 41 / 200) loss: 1.921608\n",
      "(Iteration 51 / 200) loss: 1.701968\n",
      "(Iteration 61 / 200) loss: 1.858620\n",
      "(Iteration 71 / 200) loss: 1.676858\n",
      "(Epoch 2 / 5) train acc: 0.432000; val_acc: 0.340000\n",
      "(Iteration 81 / 200) loss: 1.698734\n",
      "(Iteration 91 / 200) loss: 1.800223\n",
      "(Iteration 101 / 200) loss: 1.720986\n",
      "(Iteration 111 / 200) loss: 1.480449\n",
      "(Epoch 3 / 5) train acc: 0.443000; val_acc: 0.345000\n",
      "(Iteration 121 / 200) loss: 1.528440\n",
      "(Iteration 131 / 200) loss: 1.559103\n",
      "(Iteration 141 / 200) loss: 1.641715\n",
      "(Iteration 151 / 200) loss: 1.508666\n",
      "(Epoch 4 / 5) train acc: 0.520000; val_acc: 0.337000\n",
      "(Iteration 161 / 200) loss: 1.453137\n",
      "(Iteration 171 / 200) loss: 1.466056\n",
      "(Iteration 181 / 200) loss: 1.324395\n",
      "(Iteration 191 / 200) loss: 1.474209\n",
      "(Epoch 5 / 5) train acc: 0.540000; val_acc: 0.347000\n",
      "\n"
     ]
    },
    {
     "name": "stderr",
     "output_type": "stream",
     "text": [
      "/usr/local/lib/python3.6/dist-packages/ipykernel_launcher.py:30: MatplotlibDeprecationWarning: Adding an axes using the same arguments as a previous axes currently reuses the earlier instance.  In a future version, a new instance will always be created and returned.  Meanwhile, this warning can be suppressed, and the future behavior ensured, by passing a unique label to each axes instance.\n",
      "/usr/local/lib/python3.6/dist-packages/ipykernel_launcher.py:33: MatplotlibDeprecationWarning: Adding an axes using the same arguments as a previous axes currently reuses the earlier instance.  In a future version, a new instance will always be created and returned.  Meanwhile, this warning can be suppressed, and the future behavior ensured, by passing a unique label to each axes instance.\n",
      "/usr/local/lib/python3.6/dist-packages/ipykernel_launcher.py:36: MatplotlibDeprecationWarning: Adding an axes using the same arguments as a previous axes currently reuses the earlier instance.  In a future version, a new instance will always be created and returned.  Meanwhile, this warning can be suppressed, and the future behavior ensured, by passing a unique label to each axes instance.\n",
      "/usr/local/lib/python3.6/dist-packages/ipykernel_launcher.py:40: MatplotlibDeprecationWarning: Adding an axes using the same arguments as a previous axes currently reuses the earlier instance.  In a future version, a new instance will always be created and returned.  Meanwhile, this warning can be suppressed, and the future behavior ensured, by passing a unique label to each axes instance.\n"
     ]
    },
    {
     "data": {
      "image/png": "[encoded data removed]",
      "text/plain": [
       "<Figure size 1080x1080 with 3 Axes>"
      ]
     },
     "metadata": {
      "needs_background": "light",
      "tags": []
     },
     "output_type": "display_data"
    }
   ],
   "source": [
    "learning_rates = {'rmsprop': 1e-4, 'adam': 1e-3}\n",
    "for update_rule in ['adam', 'rmsprop']:\n",
    "  print('running with ', update_rule)\n",
    "  model = FullyConnectedNet([100, 100, 100, 100, 100], weight_scale=5e-2)\n",
    "\n",
    "  solver = Solver(model, small_data,\n",
    "                  num_epochs=5, batch_size=100,\n",
    "                  update_rule=update_rule,\n",
    "                  optim_config={\n",
    "                    'learning_rate': learning_rates[update_rule]\n",
    "                  },\n",
    "                  verbose=True)\n",
    "  solvers[update_rule] = solver\n",
    "  solver.train()\n",
    "  print()\n",
    "\n",
    "plt.subplot(3, 1, 1)\n",
    "plt.title('Training loss')\n",
    "plt.xlabel('Iteration')\n",
    "\n",
    "plt.subplot(3, 1, 2)\n",
    "plt.title('Training accuracy')\n",
    "plt.xlabel('Epoch')\n",
    "\n",
    "plt.subplot(3, 1, 3)\n",
    "plt.title('Validation accuracy')\n",
    "plt.xlabel('Epoch')\n",
    "\n",
    "for update_rule, solver in list(solvers.items()):\n",
    "  plt.subplot(3, 1, 1)\n",
    "  plt.plot(solver.loss_history, 'o', label=update_rule)\n",
    "  \n",
    "  plt.subplot(3, 1, 2)\n",
    "  plt.plot(solver.train_acc_history, '-o', label=update_rule)\n",
    "\n",
    "  plt.subplot(3, 1, 3)\n",
    "  plt.plot(solver.val_acc_history, '-o', label=update_rule)\n",
    "  \n",
    "for i in [1, 2, 3]:\n",
    "  plt.subplot(3, 1, i)\n",
    "  plt.legend(loc='upper center', ncol=4)\n",
    "plt.gcf().set_size_inches(15, 15)\n",
    "plt.show()"
   ]
  },
  {
   "cell_type": "markdown",
   "metadata": {
    "colab_type": "text",
    "id": "AwZkvQ3Y-9Zq",
    "tags": [
     "pdf-inline"
    ]
   },
   "source": [
    "## Inline Question 3:\n",
    "\n",
    "AdaGrad, like Adam, is a per-parameter optimization method that uses the following update rule:\n",
    "\n",
    "```\n",
    "cache += dw**2\n",
    "w += - learning_rate * dw / (np.sqrt(cache) + eps)\n",
    "```\n",
    "\n",
    "John notices that when he was training a network with AdaGrad that the updates became very small, and that his network was learning slowly. Using your knowledge of the AdaGrad update rule, why do you think the updates would become very small? Would Adam have the same issue?\n",
    "\n",
    "\n",
    "## Answer: \n",
    "[FILL THIS IN]\n"
   ]
  },
  {
   "cell_type": "markdown",
   "metadata": {
    "colab_type": "text",
    "id": "X-YmCXxd-9Zr"
   },
   "source": [
    "# Train a good model!\n",
    "Train the best fully-connected model that you can on CIFAR-10, storing your best model in the `best_model` variable. We require you to get at least 50% accuracy on the validation set using a fully-connected net.\n",
    "\n",
    "If you are careful it should be possible to get accuracies above 55%, but we don't require it for this part and won't assign extra credit for doing so. Later in the assignment we will ask you to train the best convolutional network that you can on CIFAR-10, and we would prefer that you spend your effort working on convolutional nets rather than fully-connected nets.\n",
    "\n",
    "You might find it useful to complete the `BatchNormalization.ipynb` and `Dropout.ipynb` notebooks before completing this part, since those techniques can help you train powerful models."
   ]
  },
  {
   "cell_type": "code",
   "execution_count": 37,
   "metadata": {
    "colab": {
     "base_uri": "https://localhost:8080/",
     "height": 382
    },
    "colab_type": "code",
    "executionInfo": {
     "elapsed": 2232409,
     "status": "ok",
     "timestamp": 1596912064378,
     "user": {
      "displayName": "Singhal Rajat Vikas cs17b042",
      "photoUrl": "",
      "userId": "09224506680049486870"
     },
     "user_tz": -330
    },
    "id": "w6bnrLrc-9Zs",
    "outputId": "253d3e00-6e63-4929-8571-a73615bd634f",
    "scrolled": false
   },
   "outputs": [
    {
     "name": "stdout",
     "output_type": "stream",
     "text": [
      "LR: 0.00010079828393663106, Reg: 0.1718416105842341, Weight Scale: 0.0031334136477260757, Val Acc: 0.109\n",
      "LR: 0.009990524538898544, Reg: 0.8715968898880776, Weight Scale: 0.02295878428293012, Val Acc: 0.178\n",
      "LR: 0.00016512306729095914, Reg: 0.4455772157871126, Weight Scale: 0.02433788644590092, Val Acc: 0.391\n",
      "LR: 0.00028846130228230303, Reg: 0.8640546740739378, Weight Scale: 0.07595707912093876, Val Acc: 0.404\n",
      "LR: 0.007807099177179451, Reg: 0.20376320471692635, Weight Scale: 0.006982021273444878, Val Acc: 0.209\n",
      "LR: 0.0028587235683151663, Reg: 0.045301281417115244, Weight Scale: 0.0010048244411080373, Val Acc: 0.371\n",
      "LR: 0.0017542437249523032, Reg: 0.46591312049979167, Weight Scale: 0.050155216781257415, Val Acc: 0.303\n",
      "LR: 0.0026936864572019953, Reg: 0.01959853052054926, Weight Scale: 0.06147105145430408, Val Acc: 0.406\n",
      "LR: 0.00025163152655371333, Reg: 0.03261566331587762, Weight Scale: 0.05467254561993204, Val Acc: 0.534\n",
      "LR: 0.004526427515483127, Reg: 0.060388195441226505, Weight Scale: 0.002591733597749283, Val Acc: 0.299\n",
      "LR: 0.00020695887276220886, Reg: 0.01360660996885725, Weight Scale: 0.027528495512153767, Val Acc: 0.54\n",
      "LR: 0.00014296279665787268, Reg: 0.0882988580620143, Weight Scale: 0.0932497592819216, Val Acc: 0.497\n",
      "LR: 0.00033553977993118, Reg: 0.0692006700491977, Weight Scale: 0.001311787177908352, Val Acc: 0.112\n",
      "LR: 0.0045861009707995285, Reg: 0.09031118964646653, Weight Scale: 0.02792493518237774, Val Acc: 0.324\n",
      "LR: 0.0031108310080790427, Reg: 0.021157689317869335, Weight Scale: 0.0035830196990950195, Val Acc: 0.367\n",
      "LR: 0.0003031538771493368, Reg: 0.8804521559702925, Weight Scale: 0.06498790742531173, Val Acc: 0.406\n",
      "LR: 0.0007492289515634557, Reg: 0.23864561381436988, Weight Scale: 0.01930520737890661, Val Acc: 0.38\n",
      "LR: 0.0001520659937523696, Reg: 0.16437658062252747, Weight Scale: 0.001287471150066323, Val Acc: 0.119\n",
      "LR: 0.00015082540013729433, Reg: 0.24258505178335274, Weight Scale: 0.004508480049016957, Val Acc: 0.105\n",
      "LR: 0.002670341858006839, Reg: 0.27448835264527394, Weight Scale: 0.002800307513708019, Val Acc: 0.119\n",
      "Best val acc: 0.54\n"
     ]
    }
   ],
   "source": [
    "best_model = None\n",
    "################################################################################\n",
    "# TODO: Train the best FullyConnectedNet that you can on CIFAR-10. You might   #\n",
    "# find batch/layer normalization and dropout useful. Store your best model in  #\n",
    "# the best_model variable.                                                     #\n",
    "################################################################################\n",
    "# *****START OF YOUR CODE (DO NOT DELETE/MODIFY THIS LINE)*****\n",
    "best_val = 0.0\n",
    "\n",
    "# Model size, epochs were chosen afte testing\n",
    "\n",
    "for i in range(20):\n",
    "    lr = 10**np.random.uniform(-4, -2)\n",
    "    reg = 10**np.random.uniform(-2, 0)\n",
    "    ws = 10**np.random.uniform(-3, -1)\n",
    "    model = FullyConnectedNet([100, 100, 100], weight_scale=ws, reg=reg)\n",
    "\n",
    "    solver = Solver(model, data,\n",
    "                  num_epochs=20, batch_size=100,\n",
    "                  update_rule='adam',\n",
    "                  optim_config={\n",
    "                    'learning_rate': lr\n",
    "                  },\n",
    "                  verbose=False)\n",
    "    solver.train()\n",
    "    val_accuracy = solver.best_val_acc\n",
    "    if best_val < val_accuracy:\n",
    "        best_val = val_accuracy\n",
    "        best_model = model\n",
    "\n",
    "    print(f'LR: {lr}, Reg: {reg}, Weight Scale: {ws}, Val Acc: {val_accuracy}')\n",
    "\n",
    "print(f'Best val acc: {best_val}')\n",
    "# *****END OF YOUR CODE (DO NOT DELETE/MODIFY THIS LINE)*****\n",
    "################################################################################\n",
    "#                              END OF YOUR CODE                                #\n",
    "################################################################################"
   ]
  },
  {
   "cell_type": "markdown",
   "metadata": {
    "colab_type": "text",
    "id": "c9zEdI7m-9Zv"
   },
   "source": [
    "# Test your model!\n",
    "Run your best model on the validation and test sets. You should achieve above 50% accuracy on the validation set."
   ]
  },
  {
   "cell_type": "code",
   "execution_count": 38,
   "metadata": {
    "colab": {
     "base_uri": "https://localhost:8080/",
     "height": 52
    },
    "colab_type": "code",
    "executionInfo": {
     "elapsed": 1140,
     "status": "ok",
     "timestamp": 1596912477753,
     "user": {
      "displayName": "Singhal Rajat Vikas cs17b042",
      "photoUrl": "",
      "userId": "09224506680049486870"
     },
     "user_tz": -330
    },
    "id": "bNgA9eR_-9Zx",
    "outputId": "eb099f0f-6c79-4e32-b036-0c03a6fbc137"
   },
   "outputs": [
    {
     "name": "stdout",
     "output_type": "stream",
     "text": [
      "Validation set accuracy:  0.54\n",
      "Test set accuracy:  0.51\n"
     ]
    }
   ],
   "source": [
    "y_test_pred = np.argmax(best_model.loss(data['X_test']), axis=1)\n",
    "y_val_pred = np.argmax(best_model.loss(data['X_val']), axis=1)\n",
    "print('Validation set accuracy: ', (y_val_pred == data['y_val']).mean())\n",
    "print('Test set accuracy: ', (y_test_pred == data['y_test']).mean())"
   ]
  }
 ],
 "metadata": {
  "colab": {
   "collapsed_sections": [],
   "name": "FullyConnectedNets.ipynb",
   "provenance": []
  },
  "kernelspec": {
   "display_name": "Python 3",
   "language": "python",
   "name": "python3"
  },
  "language_info": {
   "codemirror_mode": {
    "name": "ipython",
    "version": 3
   },
   "file_extension": ".py",
   "mimetype": "text/x-python",
   "name": "python",
   "nbconvert_exporter": "python",
   "pygments_lexer": "ipython3",
   "version": "3.6.9"
  }
 },
 "nbformat": 4,
 "nbformat_minor": 1
}
